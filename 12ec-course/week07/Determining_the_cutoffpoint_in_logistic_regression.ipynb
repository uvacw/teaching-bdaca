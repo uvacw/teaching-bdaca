{
 "cells": [
  {
   "cell_type": "markdown",
   "metadata": {},
   "source": [
    "# Big Data and Automated Content Analysis I+II, Week 7\n",
    "\n",
    "(c) Damian Trilling \\& Felicia Loecherbach\n",
    "\n",
    "This notebook illustrates how to determine a cutoff point for logistic regression. Refer to the lecture slides for context.\n",
    "\n",
    "We use the same data as in week 5 and 6 as starting point (the IMDB data).\n"
   ]
  },
  {
   "cell_type": "code",
   "execution_count": 17,
   "metadata": {},
   "outputs": [],
   "source": [
    "from glob import glob\n",
    "from sklearn.linear_model import LogisticRegression\n",
    "from sklearn.feature_extraction.text import CountVectorizer\n",
    "from sklearn import metrics\n",
    "import numpy as np\n",
    "import matplotlib.pyplot as plt\n",
    "np.seterr(divide = 'ignore') \n",
    "%matplotlib inline"
   ]
  },
  {
   "cell_type": "markdown",
   "metadata": {},
   "source": [
    "## Create data set\n"
   ]
  },
  {
   "cell_type": "code",
   "execution_count": 3,
   "metadata": {},
   "outputs": [
    {
     "name": "stdout",
     "output_type": "stream",
     "text": [
      "Constructing training dataset\n",
      "Added 12500 positive reviews\n",
      "Added 12500 negative reviews\n",
      "Constructing test dataset\n",
      "Added 12500 positive reviews\n",
      "Added 12500 negative reviews\n"
     ]
    }
   ],
   "source": [
    "reviews=[]\n",
    "test=[]\n",
    "\n",
    "print(\"Constructing training dataset\")\n",
    "\n",
    "# glob gives you a list of filenames that match a specific criterion\n",
    "# in this case, all .txt-files in the postivie training folder\n",
    "\n",
    "for file in glob (\"/Users/felicialoecherbach/Downloads/aclImdb/train/pos/*.txt\"):\n",
    "    with open(file) as fi:\n",
    "        reviews.append((fi.read(),\"1\"))\n",
    "nopostr=len(reviews)\n",
    "\n",
    "print (\"Added\",nopostr,\"positive reviews\")  \n",
    "\n",
    "for file in glob (\"/Users/felicialoecherbach/Downloads/aclImdb/train/neg/*.txt\"):\n",
    "    with open(file) as fi:\n",
    "        reviews.append((fi.read(),\"-1\"))\n",
    "nonegtr=len(reviews)-nopostr\n",
    "print (\"Added\",nonegtr,\"negative reviews\")  \n",
    "   \n",
    "print(\"Constructing test dataset\")\n",
    "\n",
    "for file in glob (\"/Users/felicialoecherbach/Downloads/aclImdb/test/pos/*.txt\"):\n",
    "    with open(file) as fi:\n",
    "        test.append((fi.read(),\"1\"))\n",
    "noposte=len(test)\n",
    "print (\"Added\",noposte,\"positive reviews\")  \n",
    "\n",
    "for file in glob (\"/Users/felicialoecherbach/Downloads/aclImdb/test/neg/*.txt\"):\n",
    "    with open(file) as fi:\n",
    "        test.append((fi.read(),\"-1\"))\n",
    "nonegte=len(test)-noposte\n",
    "print (\"Added\",nonegte,\"negative reviews\")  "
   ]
  },
  {
   "cell_type": "markdown",
   "metadata": {},
   "source": [
    "## Fit vectorizer and model\n"
   ]
  },
  {
   "cell_type": "code",
   "execution_count": 10,
   "metadata": {},
   "outputs": [
    {
     "data": {
      "text/html": [
       "<style>#sk-container-id-6 {\n",
       "  /* Definition of color scheme common for light and dark mode */\n",
       "  --sklearn-color-text: black;\n",
       "  --sklearn-color-line: gray;\n",
       "  /* Definition of color scheme for unfitted estimators */\n",
       "  --sklearn-color-unfitted-level-0: #fff5e6;\n",
       "  --sklearn-color-unfitted-level-1: #f6e4d2;\n",
       "  --sklearn-color-unfitted-level-2: #ffe0b3;\n",
       "  --sklearn-color-unfitted-level-3: chocolate;\n",
       "  /* Definition of color scheme for fitted estimators */\n",
       "  --sklearn-color-fitted-level-0: #f0f8ff;\n",
       "  --sklearn-color-fitted-level-1: #d4ebff;\n",
       "  --sklearn-color-fitted-level-2: #b3dbfd;\n",
       "  --sklearn-color-fitted-level-3: cornflowerblue;\n",
       "\n",
       "  /* Specific color for light theme */\n",
       "  --sklearn-color-text-on-default-background: var(--sg-text-color, var(--theme-code-foreground, var(--jp-content-font-color1, black)));\n",
       "  --sklearn-color-background: var(--sg-background-color, var(--theme-background, var(--jp-layout-color0, white)));\n",
       "  --sklearn-color-border-box: var(--sg-text-color, var(--theme-code-foreground, var(--jp-content-font-color1, black)));\n",
       "  --sklearn-color-icon: #696969;\n",
       "\n",
       "  @media (prefers-color-scheme: dark) {\n",
       "    /* Redefinition of color scheme for dark theme */\n",
       "    --sklearn-color-text-on-default-background: var(--sg-text-color, var(--theme-code-foreground, var(--jp-content-font-color1, white)));\n",
       "    --sklearn-color-background: var(--sg-background-color, var(--theme-background, var(--jp-layout-color0, #111)));\n",
       "    --sklearn-color-border-box: var(--sg-text-color, var(--theme-code-foreground, var(--jp-content-font-color1, white)));\n",
       "    --sklearn-color-icon: #878787;\n",
       "  }\n",
       "}\n",
       "\n",
       "#sk-container-id-6 {\n",
       "  color: var(--sklearn-color-text);\n",
       "}\n",
       "\n",
       "#sk-container-id-6 pre {\n",
       "  padding: 0;\n",
       "}\n",
       "\n",
       "#sk-container-id-6 input.sk-hidden--visually {\n",
       "  border: 0;\n",
       "  clip: rect(1px 1px 1px 1px);\n",
       "  clip: rect(1px, 1px, 1px, 1px);\n",
       "  height: 1px;\n",
       "  margin: -1px;\n",
       "  overflow: hidden;\n",
       "  padding: 0;\n",
       "  position: absolute;\n",
       "  width: 1px;\n",
       "}\n",
       "\n",
       "#sk-container-id-6 div.sk-dashed-wrapped {\n",
       "  border: 1px dashed var(--sklearn-color-line);\n",
       "  margin: 0 0.4em 0.5em 0.4em;\n",
       "  box-sizing: border-box;\n",
       "  padding-bottom: 0.4em;\n",
       "  background-color: var(--sklearn-color-background);\n",
       "}\n",
       "\n",
       "#sk-container-id-6 div.sk-container {\n",
       "  /* jupyter's `normalize.less` sets `[hidden] { display: none; }`\n",
       "     but bootstrap.min.css set `[hidden] { display: none !important; }`\n",
       "     so we also need the `!important` here to be able to override the\n",
       "     default hidden behavior on the sphinx rendered scikit-learn.org.\n",
       "     See: https://github.com/scikit-learn/scikit-learn/issues/21755 */\n",
       "  display: inline-block !important;\n",
       "  position: relative;\n",
       "}\n",
       "\n",
       "#sk-container-id-6 div.sk-text-repr-fallback {\n",
       "  display: none;\n",
       "}\n",
       "\n",
       "div.sk-parallel-item,\n",
       "div.sk-serial,\n",
       "div.sk-item {\n",
       "  /* draw centered vertical line to link estimators */\n",
       "  background-image: linear-gradient(var(--sklearn-color-text-on-default-background), var(--sklearn-color-text-on-default-background));\n",
       "  background-size: 2px 100%;\n",
       "  background-repeat: no-repeat;\n",
       "  background-position: center center;\n",
       "}\n",
       "\n",
       "/* Parallel-specific style estimator block */\n",
       "\n",
       "#sk-container-id-6 div.sk-parallel-item::after {\n",
       "  content: \"\";\n",
       "  width: 100%;\n",
       "  border-bottom: 2px solid var(--sklearn-color-text-on-default-background);\n",
       "  flex-grow: 1;\n",
       "}\n",
       "\n",
       "#sk-container-id-6 div.sk-parallel {\n",
       "  display: flex;\n",
       "  align-items: stretch;\n",
       "  justify-content: center;\n",
       "  background-color: var(--sklearn-color-background);\n",
       "  position: relative;\n",
       "}\n",
       "\n",
       "#sk-container-id-6 div.sk-parallel-item {\n",
       "  display: flex;\n",
       "  flex-direction: column;\n",
       "}\n",
       "\n",
       "#sk-container-id-6 div.sk-parallel-item:first-child::after {\n",
       "  align-self: flex-end;\n",
       "  width: 50%;\n",
       "}\n",
       "\n",
       "#sk-container-id-6 div.sk-parallel-item:last-child::after {\n",
       "  align-self: flex-start;\n",
       "  width: 50%;\n",
       "}\n",
       "\n",
       "#sk-container-id-6 div.sk-parallel-item:only-child::after {\n",
       "  width: 0;\n",
       "}\n",
       "\n",
       "/* Serial-specific style estimator block */\n",
       "\n",
       "#sk-container-id-6 div.sk-serial {\n",
       "  display: flex;\n",
       "  flex-direction: column;\n",
       "  align-items: center;\n",
       "  background-color: var(--sklearn-color-background);\n",
       "  padding-right: 1em;\n",
       "  padding-left: 1em;\n",
       "}\n",
       "\n",
       "\n",
       "/* Toggleable style: style used for estimator/Pipeline/ColumnTransformer box that is\n",
       "clickable and can be expanded/collapsed.\n",
       "- Pipeline and ColumnTransformer use this feature and define the default style\n",
       "- Estimators will overwrite some part of the style using the `sk-estimator` class\n",
       "*/\n",
       "\n",
       "/* Pipeline and ColumnTransformer style (default) */\n",
       "\n",
       "#sk-container-id-6 div.sk-toggleable {\n",
       "  /* Default theme specific background. It is overwritten whether we have a\n",
       "  specific estimator or a Pipeline/ColumnTransformer */\n",
       "  background-color: var(--sklearn-color-background);\n",
       "}\n",
       "\n",
       "/* Toggleable label */\n",
       "#sk-container-id-6 label.sk-toggleable__label {\n",
       "  cursor: pointer;\n",
       "  display: block;\n",
       "  width: 100%;\n",
       "  margin-bottom: 0;\n",
       "  padding: 0.5em;\n",
       "  box-sizing: border-box;\n",
       "  text-align: center;\n",
       "}\n",
       "\n",
       "#sk-container-id-6 label.sk-toggleable__label-arrow:before {\n",
       "  /* Arrow on the left of the label */\n",
       "  content: \"▸\";\n",
       "  float: left;\n",
       "  margin-right: 0.25em;\n",
       "  color: var(--sklearn-color-icon);\n",
       "}\n",
       "\n",
       "#sk-container-id-6 label.sk-toggleable__label-arrow:hover:before {\n",
       "  color: var(--sklearn-color-text);\n",
       "}\n",
       "\n",
       "/* Toggleable content - dropdown */\n",
       "\n",
       "#sk-container-id-6 div.sk-toggleable__content {\n",
       "  max-height: 0;\n",
       "  max-width: 0;\n",
       "  overflow: hidden;\n",
       "  text-align: left;\n",
       "  /* unfitted */\n",
       "  background-color: var(--sklearn-color-unfitted-level-0);\n",
       "}\n",
       "\n",
       "#sk-container-id-6 div.sk-toggleable__content.fitted {\n",
       "  /* fitted */\n",
       "  background-color: var(--sklearn-color-fitted-level-0);\n",
       "}\n",
       "\n",
       "#sk-container-id-6 div.sk-toggleable__content pre {\n",
       "  margin: 0.2em;\n",
       "  border-radius: 0.25em;\n",
       "  color: var(--sklearn-color-text);\n",
       "  /* unfitted */\n",
       "  background-color: var(--sklearn-color-unfitted-level-0);\n",
       "}\n",
       "\n",
       "#sk-container-id-6 div.sk-toggleable__content.fitted pre {\n",
       "  /* unfitted */\n",
       "  background-color: var(--sklearn-color-fitted-level-0);\n",
       "}\n",
       "\n",
       "#sk-container-id-6 input.sk-toggleable__control:checked~div.sk-toggleable__content {\n",
       "  /* Expand drop-down */\n",
       "  max-height: 200px;\n",
       "  max-width: 100%;\n",
       "  overflow: auto;\n",
       "}\n",
       "\n",
       "#sk-container-id-6 input.sk-toggleable__control:checked~label.sk-toggleable__label-arrow:before {\n",
       "  content: \"▾\";\n",
       "}\n",
       "\n",
       "/* Pipeline/ColumnTransformer-specific style */\n",
       "\n",
       "#sk-container-id-6 div.sk-label input.sk-toggleable__control:checked~label.sk-toggleable__label {\n",
       "  color: var(--sklearn-color-text);\n",
       "  background-color: var(--sklearn-color-unfitted-level-2);\n",
       "}\n",
       "\n",
       "#sk-container-id-6 div.sk-label.fitted input.sk-toggleable__control:checked~label.sk-toggleable__label {\n",
       "  background-color: var(--sklearn-color-fitted-level-2);\n",
       "}\n",
       "\n",
       "/* Estimator-specific style */\n",
       "\n",
       "/* Colorize estimator box */\n",
       "#sk-container-id-6 div.sk-estimator input.sk-toggleable__control:checked~label.sk-toggleable__label {\n",
       "  /* unfitted */\n",
       "  background-color: var(--sklearn-color-unfitted-level-2);\n",
       "}\n",
       "\n",
       "#sk-container-id-6 div.sk-estimator.fitted input.sk-toggleable__control:checked~label.sk-toggleable__label {\n",
       "  /* fitted */\n",
       "  background-color: var(--sklearn-color-fitted-level-2);\n",
       "}\n",
       "\n",
       "#sk-container-id-6 div.sk-label label.sk-toggleable__label,\n",
       "#sk-container-id-6 div.sk-label label {\n",
       "  /* The background is the default theme color */\n",
       "  color: var(--sklearn-color-text-on-default-background);\n",
       "}\n",
       "\n",
       "/* On hover, darken the color of the background */\n",
       "#sk-container-id-6 div.sk-label:hover label.sk-toggleable__label {\n",
       "  color: var(--sklearn-color-text);\n",
       "  background-color: var(--sklearn-color-unfitted-level-2);\n",
       "}\n",
       "\n",
       "/* Label box, darken color on hover, fitted */\n",
       "#sk-container-id-6 div.sk-label.fitted:hover label.sk-toggleable__label.fitted {\n",
       "  color: var(--sklearn-color-text);\n",
       "  background-color: var(--sklearn-color-fitted-level-2);\n",
       "}\n",
       "\n",
       "/* Estimator label */\n",
       "\n",
       "#sk-container-id-6 div.sk-label label {\n",
       "  font-family: monospace;\n",
       "  font-weight: bold;\n",
       "  display: inline-block;\n",
       "  line-height: 1.2em;\n",
       "}\n",
       "\n",
       "#sk-container-id-6 div.sk-label-container {\n",
       "  text-align: center;\n",
       "}\n",
       "\n",
       "/* Estimator-specific */\n",
       "#sk-container-id-6 div.sk-estimator {\n",
       "  font-family: monospace;\n",
       "  border: 1px dotted var(--sklearn-color-border-box);\n",
       "  border-radius: 0.25em;\n",
       "  box-sizing: border-box;\n",
       "  margin-bottom: 0.5em;\n",
       "  /* unfitted */\n",
       "  background-color: var(--sklearn-color-unfitted-level-0);\n",
       "}\n",
       "\n",
       "#sk-container-id-6 div.sk-estimator.fitted {\n",
       "  /* fitted */\n",
       "  background-color: var(--sklearn-color-fitted-level-0);\n",
       "}\n",
       "\n",
       "/* on hover */\n",
       "#sk-container-id-6 div.sk-estimator:hover {\n",
       "  /* unfitted */\n",
       "  background-color: var(--sklearn-color-unfitted-level-2);\n",
       "}\n",
       "\n",
       "#sk-container-id-6 div.sk-estimator.fitted:hover {\n",
       "  /* fitted */\n",
       "  background-color: var(--sklearn-color-fitted-level-2);\n",
       "}\n",
       "\n",
       "/* Specification for estimator info (e.g. \"i\" and \"?\") */\n",
       "\n",
       "/* Common style for \"i\" and \"?\" */\n",
       "\n",
       ".sk-estimator-doc-link,\n",
       "a:link.sk-estimator-doc-link,\n",
       "a:visited.sk-estimator-doc-link {\n",
       "  float: right;\n",
       "  font-size: smaller;\n",
       "  line-height: 1em;\n",
       "  font-family: monospace;\n",
       "  background-color: var(--sklearn-color-background);\n",
       "  border-radius: 1em;\n",
       "  height: 1em;\n",
       "  width: 1em;\n",
       "  text-decoration: none !important;\n",
       "  margin-left: 1ex;\n",
       "  /* unfitted */\n",
       "  border: var(--sklearn-color-unfitted-level-1) 1pt solid;\n",
       "  color: var(--sklearn-color-unfitted-level-1);\n",
       "}\n",
       "\n",
       ".sk-estimator-doc-link.fitted,\n",
       "a:link.sk-estimator-doc-link.fitted,\n",
       "a:visited.sk-estimator-doc-link.fitted {\n",
       "  /* fitted */\n",
       "  border: var(--sklearn-color-fitted-level-1) 1pt solid;\n",
       "  color: var(--sklearn-color-fitted-level-1);\n",
       "}\n",
       "\n",
       "/* On hover */\n",
       "div.sk-estimator:hover .sk-estimator-doc-link:hover,\n",
       ".sk-estimator-doc-link:hover,\n",
       "div.sk-label-container:hover .sk-estimator-doc-link:hover,\n",
       ".sk-estimator-doc-link:hover {\n",
       "  /* unfitted */\n",
       "  background-color: var(--sklearn-color-unfitted-level-3);\n",
       "  color: var(--sklearn-color-background);\n",
       "  text-decoration: none;\n",
       "}\n",
       "\n",
       "div.sk-estimator.fitted:hover .sk-estimator-doc-link.fitted:hover,\n",
       ".sk-estimator-doc-link.fitted:hover,\n",
       "div.sk-label-container:hover .sk-estimator-doc-link.fitted:hover,\n",
       ".sk-estimator-doc-link.fitted:hover {\n",
       "  /* fitted */\n",
       "  background-color: var(--sklearn-color-fitted-level-3);\n",
       "  color: var(--sklearn-color-background);\n",
       "  text-decoration: none;\n",
       "}\n",
       "\n",
       "/* Span, style for the box shown on hovering the info icon */\n",
       ".sk-estimator-doc-link span {\n",
       "  display: none;\n",
       "  z-index: 9999;\n",
       "  position: relative;\n",
       "  font-weight: normal;\n",
       "  right: .2ex;\n",
       "  padding: .5ex;\n",
       "  margin: .5ex;\n",
       "  width: min-content;\n",
       "  min-width: 20ex;\n",
       "  max-width: 50ex;\n",
       "  color: var(--sklearn-color-text);\n",
       "  box-shadow: 2pt 2pt 4pt #999;\n",
       "  /* unfitted */\n",
       "  background: var(--sklearn-color-unfitted-level-0);\n",
       "  border: .5pt solid var(--sklearn-color-unfitted-level-3);\n",
       "}\n",
       "\n",
       ".sk-estimator-doc-link.fitted span {\n",
       "  /* fitted */\n",
       "  background: var(--sklearn-color-fitted-level-0);\n",
       "  border: var(--sklearn-color-fitted-level-3);\n",
       "}\n",
       "\n",
       ".sk-estimator-doc-link:hover span {\n",
       "  display: block;\n",
       "}\n",
       "\n",
       "/* \"?\"-specific style due to the `<a>` HTML tag */\n",
       "\n",
       "#sk-container-id-6 a.estimator_doc_link {\n",
       "  float: right;\n",
       "  font-size: 1rem;\n",
       "  line-height: 1em;\n",
       "  font-family: monospace;\n",
       "  background-color: var(--sklearn-color-background);\n",
       "  border-radius: 1rem;\n",
       "  height: 1rem;\n",
       "  width: 1rem;\n",
       "  text-decoration: none;\n",
       "  /* unfitted */\n",
       "  color: var(--sklearn-color-unfitted-level-1);\n",
       "  border: var(--sklearn-color-unfitted-level-1) 1pt solid;\n",
       "}\n",
       "\n",
       "#sk-container-id-6 a.estimator_doc_link.fitted {\n",
       "  /* fitted */\n",
       "  border: var(--sklearn-color-fitted-level-1) 1pt solid;\n",
       "  color: var(--sklearn-color-fitted-level-1);\n",
       "}\n",
       "\n",
       "/* On hover */\n",
       "#sk-container-id-6 a.estimator_doc_link:hover {\n",
       "  /* unfitted */\n",
       "  background-color: var(--sklearn-color-unfitted-level-3);\n",
       "  color: var(--sklearn-color-background);\n",
       "  text-decoration: none;\n",
       "}\n",
       "\n",
       "#sk-container-id-6 a.estimator_doc_link.fitted:hover {\n",
       "  /* fitted */\n",
       "  background-color: var(--sklearn-color-fitted-level-3);\n",
       "}\n",
       "</style><div id=\"sk-container-id-6\" class=\"sk-top-container\"><div class=\"sk-text-repr-fallback\"><pre>LogisticRegression(max_iter=200)</pre><b>In a Jupyter environment, please rerun this cell to show the HTML representation or trust the notebook. <br />On GitHub, the HTML representation is unable to render, please try loading this page with nbviewer.org.</b></div><div class=\"sk-container\" hidden><div class=\"sk-item\"><div class=\"sk-estimator fitted sk-toggleable\"><input class=\"sk-toggleable__control sk-hidden--visually\" id=\"sk-estimator-id-6\" type=\"checkbox\" checked><label for=\"sk-estimator-id-6\" class=\"sk-toggleable__label fitted sk-toggleable__label-arrow fitted\">&nbsp;&nbsp;LogisticRegression<a class=\"sk-estimator-doc-link fitted\" rel=\"noreferrer\" target=\"_blank\" href=\"https://scikit-learn.org/1.4/modules/generated/sklearn.linear_model.LogisticRegression.html\">?<span>Documentation for LogisticRegression</span></a><span class=\"sk-estimator-doc-link fitted\">i<span>Fitted</span></span></label><div class=\"sk-toggleable__content fitted\"><pre>LogisticRegression(max_iter=200)</pre></div> </div></div></div></div>"
      ],
      "text/plain": [
       "LogisticRegression(max_iter=200)"
      ]
     },
     "execution_count": 10,
     "metadata": {},
     "output_type": "execute_result"
    }
   ],
   "source": [
    "# Generate BOW representation of word counts\n",
    "vectorizer = CountVectorizer(stop_words='english')   \n",
    "#alternatively, you could provide a list of stop words yourself\n",
    "train_features = vectorizer.fit_transform([r[0] for r in reviews])\n",
    "test_features = vectorizer.transform([r[0] for r in test])\n",
    "\n",
    "# Fit a naive bayes model to the training data.\n",
    "clf = LogisticRegression(max_iter =200)\n",
    "clf.fit(train_features, [r[1] for r in reviews])\n"
   ]
  },
  {
   "cell_type": "markdown",
   "metadata": {},
   "source": [
    "## Get predictions from default model\n"
   ]
  },
  {
   "cell_type": "code",
   "execution_count": 11,
   "metadata": {},
   "outputs": [],
   "source": [
    "predictions = clf.predict(test_features)\n",
    "actual=[r[1] for r in test]"
   ]
  },
  {
   "cell_type": "code",
   "execution_count": 12,
   "metadata": {},
   "outputs": [
    {
     "name": "stdout",
     "output_type": "stream",
     "text": [
      "Precision:\n",
      "0.8655037495924356\n",
      "Recall:\n",
      "0.84944\n"
     ]
    }
   ],
   "source": [
    "print('Precision:')\n",
    "print(metrics.precision_score(actual,predictions,pos_label='1', labels = ['-1','1']))\n",
    "print('Recall:')\n",
    "print(metrics.recall_score(actual,predictions,pos_label='1', labels = ['-1','1']))\n"
   ]
  },
  {
   "cell_type": "code",
   "execution_count": 13,
   "metadata": {},
   "outputs": [
    {
     "name": "stdout",
     "output_type": "stream",
     "text": [
      "              precision    recall  f1-score   support\n",
      "\n",
      "          -1       0.85      0.87      0.86     12500\n",
      "           1       0.87      0.85      0.86     12500\n",
      "\n",
      "    accuracy                           0.86     25000\n",
      "   macro avg       0.86      0.86      0.86     25000\n",
      "weighted avg       0.86      0.86      0.86     25000\n",
      "\n"
     ]
    }
   ],
   "source": [
    "# another way of doint it\n",
    "print(metrics.classification_report(actual, predictions))"
   ]
  },
  {
   "cell_type": "markdown",
   "metadata": {},
   "source": [
    "Let's also get the [confusion matrix](https://en.wikipedia.org/wiki/Confusion_matrix#Table_of_confusion) (a crosstab of predicted and actual values). Indeed, we see that thinking a good movie is bad is a bit less of a problem than the other way around. But it actually looks kind of balanced already.\n"
   ]
  },
  {
   "cell_type": "code",
   "execution_count": 14,
   "metadata": {},
   "outputs": [
    {
     "name": "stdout",
     "output_type": "stream",
     "text": [
      "[[10850  1650]\n",
      " [ 1882 10618]]\n"
     ]
    }
   ],
   "source": [
    "print(metrics.confusion_matrix(actual,predictions))"
   ]
  },
  {
   "cell_type": "markdown",
   "metadata": {},
   "source": [
    "## Get predicted probabilites and plot an ROC curve\n"
   ]
  },
  {
   "cell_type": "code",
   "execution_count": 18,
   "metadata": {},
   "outputs": [],
   "source": [
    "predprobs = clf.predict_log_proba(test_features)"
   ]
  },
  {
   "cell_type": "code",
   "execution_count": 19,
   "metadata": {},
   "outputs": [
    {
     "data": {
      "text/plain": [
       "array([[-1.87536879, -0.16640697],\n",
       "       [-0.99980299, -0.45878982],\n",
       "       [-2.50872286, -0.08487413],\n",
       "       ...,\n",
       "       [-0.30717359, -1.33000064],\n",
       "       [-0.14307518, -2.01506985],\n",
       "       [-0.25955691, -1.47575224]])"
      ]
     },
     "execution_count": 19,
     "metadata": {},
     "output_type": "execute_result"
    }
   ],
   "source": [
    "predprobs"
   ]
  },
  {
   "cell_type": "code",
   "execution_count": 20,
   "metadata": {},
   "outputs": [
    {
     "name": "stdout",
     "output_type": "stream",
     "text": [
      "ROC AUC: 0.9294412287999999\n"
     ]
    }
   ],
   "source": [
    "fpr,tpr, thresholds = metrics.roc_curve([r[1] for r in test], predprobs[:,1], pos_label='1')\n",
    "roc_auc = metrics.auc(fpr,tpr)\n",
    "print(\"ROC AUC: {}\".format(roc_auc))"
   ]
  },
  {
   "cell_type": "code",
   "execution_count": 21,
   "metadata": {},
   "outputs": [
    {
     "name": "stderr",
     "output_type": "stream",
     "text": [
      "The PostScript backend does not support transparency; partially transparent artists will be rendered opaque.\n"
     ]
    },
    {
     "data": {
      "image/png": "[encoded data removed]",
      "text/plain": [
       "<Figure size 500x500 with 1 Axes>"
      ]
     },
     "metadata": {},
     "output_type": "display_data"
    }
   ],
   "source": [
    "plt.figure(figsize=(5,5))\n",
    "plt.title('Receiver Operating Characteristic')\n",
    "plt.plot(fpr,tpr,'b',label='AUC = %0.2f'%roc_auc)\n",
    "plt.legend(loc='lower right')\n",
    "plt.plot([0,1],[0,1],'r--')\n",
    "plt.xlim([0,1])\n",
    "plt.ylim([0,1])\n",
    "plt.ylabel('True Positive Rate')\n",
    "plt.xlabel('False Positive Rate')\n",
    "#plt.savefig('roccurve.svg')\n",
    "plt.savefig('roccurve.eps')\n",
    "plt.show()"
   ]
  },
  {
   "cell_type": "markdown",
   "metadata": {},
   "source": [
    "### Finding the threshold value: the eyeballing method\n",
    "\n",
    "The plot shows that TPR of approx .85 might be good. We could check by printing the corresponding threshold value to each false-positive-rate/true-positive-rate combination and then spotting the appropriate threshold:\n"
   ]
  },
  {
   "cell_type": "code",
   "execution_count": 29,
   "metadata": {},
   "outputs": [
    {
     "name": "stdout",
     "output_type": "stream",
     "text": [
      "0.12344\t0.84032\t-0.622726273921473\n",
      "0.1236\t0.84032\t-0.6231144311552267\n",
      "0.1236\t0.84048\t-0.6239185519263694\n",
      "0.12368\t0.84048\t-0.6239466387145585\n",
      "0.12368\t0.84056\t-0.6239961400715718\n",
      "0.12376\t0.84056\t-0.6241963415135393\n",
      "0.12376\t0.84064\t-0.6242874196175282\n",
      "0.12384\t0.84064\t-0.624968906878222\n",
      "0.12384\t0.8408\t-0.6251068663751594\n",
      "0.124\t0.8408\t-0.6254393802454827\n",
      "0.124\t0.84096\t-0.6266466283084337\n",
      "0.12408\t0.84096\t-0.6269951624513647\n",
      "0.12408\t0.84104\t-0.6272893024722945\n",
      "0.12416\t0.84104\t-0.6273192609372982\n",
      "0.12416\t0.84112\t-0.6274212296406154\n",
      "0.12424\t0.84112\t-0.6276534455000106\n",
      "0.12424\t0.84128\t-0.6278367139689002\n",
      "0.12432\t0.84128\t-0.6279556708720656\n",
      "0.12432\t0.84144\t-0.6284604865603608\n",
      "0.1244\t0.84144\t-0.6286854946073678\n",
      "0.1244\t0.84152\t-0.6286864888672133\n",
      "0.12448\t0.84152\t-0.6289607366002172\n",
      "0.12448\t0.84168\t-0.6294037928838384\n",
      "0.12456\t0.84168\t-0.6297880110540511\n",
      "0.12456\t0.84192\t-0.6303329283511447\n",
      "0.12488\t0.84192\t-0.6311850096305651\n",
      "0.12488\t0.842\t-0.631631108501419\n",
      "0.12496\t0.842\t-0.6334427732056328\n",
      "0.12496\t0.84208\t-0.6334988488918504\n",
      "0.1252\t0.84208\t-0.6342960881494739\n",
      "0.1252\t0.84224\t-0.6346282480751358\n",
      "0.12528\t0.84224\t-0.6349456511360975\n",
      "0.12528\t0.84248\t-0.6354222784171973\n",
      "0.12536\t0.84248\t-0.635604298857547\n",
      "0.12536\t0.84272\t-0.6364510953185442\n",
      "0.12544\t0.84272\t-0.6372968490902163\n",
      "0.12544\t0.8428\t-0.637607696539399\n",
      "0.12552\t0.8428\t-0.6376776980038484\n",
      "0.12552\t0.84296\t-0.6380001732934766\n",
      "0.12568\t0.84296\t-0.639932020751001\n",
      "0.12568\t0.84336\t-0.6413813804648881\n",
      "0.12584\t0.84336\t-0.6433935667153762\n",
      "0.12584\t0.84384\t-0.6449436209494732\n",
      "0.126\t0.84384\t-0.6451005418690821\n",
      "0.126\t0.84392\t-0.6451046209313737\n",
      "0.12608\t0.84392\t-0.6452660097205278\n",
      "0.12608\t0.844\t-0.646045051452952\n",
      "0.12632\t0.844\t-0.6466375273587974\n",
      "0.12632\t0.84448\t-0.6497844692536386\n",
      "0.12648\t0.84448\t-0.6510928256341308\n",
      "0.12648\t0.84456\t-0.651112174902928\n",
      "0.12656\t0.84456\t-0.6517045377728696\n",
      "0.12656\t0.84464\t-0.6517090301094898\n",
      "0.12672\t0.84464\t-0.6521539736884283\n",
      "0.12672\t0.84472\t-0.652302949672009\n",
      "0.12688\t0.84472\t-0.6525889758678161\n",
      "0.12688\t0.8448\t-0.6530099231260211\n",
      "0.1272\t0.8448\t-0.6549396641300765\n",
      "0.1272\t0.84504\t-0.6550297074393479\n",
      "0.12736\t0.84504\t-0.6553118530423514\n",
      "0.12736\t0.84512\t-0.655781321874402\n",
      "0.12744\t0.84512\t-0.6558032295941498\n",
      "0.12744\t0.84528\t-0.6560384402432675\n",
      "0.12752\t0.84528\t-0.6560430869785955\n",
      "0.12752\t0.84536\t-0.6569476302410104\n",
      "0.1276\t0.84536\t-0.6571566098869221\n",
      "0.1276\t0.84544\t-0.6574323443965582\n",
      "0.12776\t0.84544\t-0.6579680818904065\n",
      "0.12776\t0.84552\t-0.6580154595097739\n",
      "0.12784\t0.84552\t-0.6580651379276401\n",
      "0.12784\t0.8456\t-0.6586432661683794\n",
      "0.12792\t0.8456\t-0.6597179352042868\n",
      "0.12792\t0.84576\t-0.6604578440249752\n",
      "0.128\t0.84576\t-0.6609818976162515\n",
      "0.128\t0.84584\t-0.6610080365400784\n",
      "0.12816\t0.84584\t-0.6613591771874247\n",
      "0.12816\t0.84592\t-0.6613776751194235\n",
      "0.12832\t0.84592\t-0.6614751461954892\n",
      "0.12832\t0.84608\t-0.6620694258259118\n",
      "0.12856\t0.84608\t-0.6634836414170235\n",
      "0.12856\t0.84616\t-0.663702439198554\n",
      "0.12896\t0.84616\t-0.6653170832950489\n",
      "0.12896\t0.84624\t-0.6654527171402382\n",
      "0.12904\t0.84624\t-0.6655031743198961\n",
      "0.12904\t0.84632\t-0.6663784672277605\n",
      "0.1292\t0.84632\t-0.6666581481888563\n",
      "0.1292\t0.84648\t-0.6672507993666262\n",
      "0.12928\t0.84648\t-0.667648055648739\n",
      "0.12928\t0.84672\t-0.6687521309914486\n",
      "0.12936\t0.84672\t-0.6692786827022589\n",
      "0.12936\t0.84688\t-0.6694879081680182\n",
      "0.12936\t0.84696\t-0.670475780143872\n",
      "0.12944\t0.84696\t-0.6708029219808834\n",
      "0.12944\t0.8472\t-0.6716755054293435\n",
      "0.1296\t0.8472\t-0.6719324943836176\n",
      "0.1296\t0.8476\t-0.6733848302292981\n",
      "0.12984\t0.8476\t-0.6737527804913251\n",
      "0.12984\t0.84768\t-0.6739983181960678\n",
      "0.13\t0.84768\t-0.6741131042285718\n",
      "0.13\t0.84784\t-0.6742463681231607\n",
      "0.13008\t0.84784\t-0.67452130839107\n",
      "0.13008\t0.848\t-0.6759948343127777\n",
      "0.13016\t0.848\t-0.6762202186478412\n",
      "0.13016\t0.84808\t-0.6765342961481369\n",
      "0.1304\t0.84808\t-0.6773078764376647\n",
      "0.1304\t0.84816\t-0.6776489157868767\n",
      "0.13064\t0.84816\t-0.6786749197279582\n",
      "0.13064\t0.84864\t-0.6799950795930866\n",
      "0.13072\t0.84864\t-0.6802393146404747\n",
      "0.13072\t0.84872\t-0.6808054275130055\n",
      "0.1308\t0.84872\t-0.6811907119339692\n",
      "0.1308\t0.8488\t-0.6819602476977723\n",
      "0.13088\t0.8488\t-0.6824315828466031\n",
      "0.13088\t0.84888\t-0.6831160544684433\n",
      "0.13128\t0.84888\t-0.6851056352388755\n",
      "0.13128\t0.84896\t-0.6853223581665684\n",
      "0.13152\t0.84896\t-0.6866118023471839\n",
      "0.13152\t0.84904\t-0.6876652228295672\n",
      "0.13176\t0.84904\t-0.6886791517735155\n",
      "0.13176\t0.8492\t-0.6915167720145132\n",
      "0.13184\t0.8492\t-0.6920794133580314\n",
      "0.13184\t0.84936\t-0.6923640688522155\n",
      "0.13192\t0.84936\t-0.6929108294761906\n",
      "0.13192\t0.84944\t-0.6929447628762943\n",
      "0.13208\t0.84944\t-0.6937316189853953\n",
      "0.13208\t0.8496\t-0.6941604791874494\n",
      "0.13224\t0.8496\t-0.6944958737537732\n",
      "0.13224\t0.84968\t-0.6958621341232313\n",
      "0.13232\t0.84968\t-0.696126905858419\n",
      "0.13232\t0.85008\t-0.6977888869143648\n",
      "0.1324\t0.85008\t-0.6979834502624936\n",
      "0.1324\t0.85024\t-0.6986551110313577\n",
      "0.13256\t0.85024\t-0.6994240454514414\n",
      "0.13256\t0.85032\t-0.6997444936448589\n",
      "0.13272\t0.85032\t-0.7011077764338896\n",
      "0.13272\t0.85048\t-0.7027783048614429\n",
      "0.1328\t0.85048\t-0.7028481910611244\n",
      "0.1328\t0.85064\t-0.7031715495809041\n",
      "0.13288\t0.85064\t-0.7039779325254644\n",
      "0.13288\t0.85072\t-0.7041105804413801\n",
      "0.13296\t0.85072\t-0.7044339998933211\n",
      "0.13296\t0.85088\t-0.7048801572306155\n",
      "0.13304\t0.85088\t-0.7059524419804398\n",
      "0.13304\t0.85104\t-0.7071849146537483\n",
      "0.13312\t0.85104\t-0.7076619222750096\n",
      "0.13312\t0.8512\t-0.7080287185422065\n",
      "0.1332\t0.8512\t-0.708232605370057\n",
      "0.1332\t0.85128\t-0.7092660174271586\n",
      "0.13344\t0.85128\t-0.7106627396790746\n",
      "0.13344\t0.85136\t-0.7109493545380396\n",
      "0.13352\t0.85136\t-0.7112161376370854\n",
      "0.13352\t0.85176\t-0.7120855269339944\n",
      "0.1336\t0.85176\t-0.7121428009729747\n",
      "0.1336\t0.85248\t-0.7139126661883212\n",
      "0.13368\t0.85248\t-0.7139550192574067\n",
      "0.13368\t0.85256\t-0.7140673765230396\n",
      "0.13384\t0.85256\t-0.7153483559717292\n",
      "0.13384\t0.85288\t-0.7164161948091818\n",
      "0.13408\t0.85288\t-0.7175653033213132\n",
      "0.13408\t0.85296\t-0.7175903047129882\n",
      "0.13448\t0.85296\t-0.718477629239817\n",
      "0.13448\t0.85304\t-0.7189702580582557\n",
      "0.13456\t0.85304\t-0.7189831923449186\n",
      "0.13456\t0.85328\t-0.7192548475484377\n",
      "0.13464\t0.85328\t-0.7193294901292164\n",
      "0.13464\t0.85336\t-0.7198171367841292\n",
      "0.1348\t0.85336\t-0.7208840238940041\n",
      "0.1348\t0.85376\t-0.7230383004480642\n",
      "0.13496\t0.85376\t-0.7236945053884023\n",
      "0.13496\t0.85408\t-0.7250616553062884\n",
      "0.13512\t0.85408\t-0.7255570025584293\n",
      "0.13512\t0.85424\t-0.7262460791599977\n",
      "0.13544\t0.85424\t-0.7278703923402073\n",
      "0.13544\t0.85456\t-0.7288794487669735\n",
      "0.13568\t0.85456\t-0.7295116082097226\n",
      "0.13568\t0.85496\t-0.7309643651957818\n",
      "0.136\t0.85496\t-0.7317512180648582\n",
      "0.136\t0.85504\t-0.731980972611858\n",
      "0.13608\t0.85504\t-0.7320543179896785\n",
      "0.13608\t0.8552\t-0.7329996817704213\n",
      "0.13632\t0.8552\t-0.7342621921688612\n",
      "0.13632\t0.85528\t-0.7343540745849569\n",
      "0.13656\t0.85528\t-0.735159596319039\n",
      "0.13656\t0.85544\t-0.7364077417999356\n",
      "0.13664\t0.85544\t-0.7364586390501021\n",
      "0.13664\t0.85552\t-0.7367508855316728\n",
      "0.13672\t0.85552\t-0.7371652423658823\n",
      "0.13672\t0.8556\t-0.7375429739729998\n",
      "0.13688\t0.8556\t-0.7383287488139574\n",
      "0.13688\t0.85584\t-0.7392388759179633\n",
      "0.13696\t0.85584\t-0.7392497186848782\n",
      "0.13696\t0.85616\t-0.739609378800284\n",
      "0.13704\t0.85616\t-0.7396270681343077\n",
      "0.13704\t0.85624\t-0.7397980053291205\n",
      "0.13712\t0.85624\t-0.7406910698511616\n",
      "0.13712\t0.85632\t-0.7408389652390922\n",
      "0.13728\t0.85632\t-0.7418044128241539\n",
      "0.13728\t0.85664\t-0.7429150131491647\n",
      "0.13736\t0.85664\t-0.7436001980960776\n",
      "0.13736\t0.85672\t-0.7439208074122883\n",
      "0.13752\t0.85672\t-0.7445292879047375\n",
      "0.13752\t0.8568\t-0.7454843500839132\n",
      "0.1376\t0.8568\t-0.7456060776161353\n",
      "0.1376\t0.85696\t-0.7456222877789457\n",
      "0.13768\t0.85696\t-0.7457096132584664\n",
      "0.13768\t0.8572\t-0.7468168642728676\n",
      "0.13776\t0.8572\t-0.7468364574697591\n",
      "0.13776\t0.85728\t-0.7471901110243879\n",
      "0.13816\t0.85728\t-0.7484018210462164\n",
      "0.13816\t0.85736\t-0.7484598494611907\n",
      "0.13824\t0.85736\t-0.748489257216039\n",
      "0.13824\t0.85768\t-0.7507561955658875\n",
      "0.13832\t0.85768\t-0.7508703924118669\n",
      "0.13832\t0.85792\t-0.7522001255728221\n",
      "0.13848\t0.85792\t-0.7524429342964405\n",
      "0.13848\t0.858\t-0.7525169149684656\n",
      "0.13856\t0.858\t-0.7529617020319583\n",
      "0.13856\t0.85816\t-0.7546290069196956\n",
      "0.13864\t0.85816\t-0.7551250609548125\n",
      "0.13864\t0.85824\t-0.755273050831968\n",
      "0.13872\t0.85824\t-0.7558460148368893\n",
      "0.13872\t0.8584\t-0.7563720135266997\n",
      "0.1388\t0.8584\t-0.7564093221038511\n",
      "0.1388\t0.85856\t-0.7569560926300984\n",
      "0.13888\t0.85856\t-0.7572275347550539\n",
      "0.13888\t0.85864\t-0.7587866654181901\n",
      "0.13896\t0.85864\t-0.7589778522000007\n",
      "0.13896\t0.85872\t-0.7595495130451105\n",
      "0.13912\t0.85872\t-0.7607423481109772\n",
      "0.13912\t0.85888\t-0.7608849259610817\n",
      "0.13952\t0.85888\t-0.7618962676628065\n",
      "0.13952\t0.85896\t-0.7623745512840165\n",
      "0.1396\t0.85896\t-0.7626651378545708\n",
      "0.1396\t0.8592\t-0.7634322306789523\n",
      "0.13984\t0.8592\t-0.7645743680295429\n",
      "0.13984\t0.85952\t-0.7655490870886554\n",
      "0.14016\t0.85952\t-0.7679638400705864\n",
      "0.14016\t0.85968\t-0.7685067073096579\n",
      "0.14032\t0.85968\t-0.7687433604055033\n",
      "0.14032\t0.85992\t-0.7704844805437899\n",
      "0.1404\t0.85992\t-0.770542549371978\n"
     ]
    }
   ],
   "source": [
    "# DO NOT (NOT, NOT, NOT) PRINT ALL OF THIS IN ANY FINAL ASSIGNMENT....\n",
    "# RATHER CONSTRUCT A SMART FILTER THAT PRINTS ONLY PARTS OF IT\n",
    "for f, t, th in zip(fpr,tpr, thresholds):\n",
    "    if 0.84 < t < 0.86:\n",
    "        print('{}\\t{}\\t{}'.format(f,t,th))"
   ]
  },
  {
   "cell_type": "markdown",
   "metadata": {},
   "source": [
    "Looks like it's something around -0.7. That would be a FPR of 13% and a TPR of 85%.\n",
    "Wait, -0,7? What does that mean? We need to exponentiate:\n"
   ]
  },
  {
   "cell_type": "code",
   "execution_count": 30,
   "metadata": {},
   "outputs": [
    {
     "data": {
      "text/plain": [
       "0.4965853037914095"
      ]
     },
     "execution_count": 30,
     "metadata": {},
     "output_type": "execute_result"
    }
   ],
   "source": [
    "np.exp(-0.7)"
   ]
  },
  {
   "cell_type": "markdown",
   "metadata": {},
   "source": [
    "This looks very close to our default cutoff of 0.5 (and that makes sense, given our confusion matrix above).\n",
    "Let's check the other way round:\n"
   ]
  },
  {
   "cell_type": "code",
   "execution_count": 31,
   "metadata": {},
   "outputs": [
    {
     "data": {
      "text/plain": [
       "-0.6931471805599453"
      ]
     },
     "execution_count": 31,
     "metadata": {},
     "output_type": "execute_result"
    }
   ],
   "source": [
    "np.log(0.5)"
   ]
  },
  {
   "cell_type": "markdown",
   "metadata": {},
   "source": [
    "### Finding the threshold value: finding the maximum differnence between TPR and FPR\n",
    "\n",
    "Rather than staring at this large table, we could also try to maximize the difference between TPR and FPR and look up which threshold belongs to it. In other words: we find the row in the table above with the biggest difference between the first two columns and print the value in the third column.\n"
   ]
  },
  {
   "cell_type": "code",
   "execution_count": 32,
   "metadata": {},
   "outputs": [
    {
     "name": "stdout",
     "output_type": "stream",
     "text": [
      "-0.7595495130451105\n"
     ]
    }
   ],
   "source": [
    "optimal_idx = np.argmax(tpr-fpr)\n",
    "optimal_threshold = thresholds[optimal_idx]\n",
    "print(optimal_threshold)"
   ]
  },
  {
   "cell_type": "markdown",
   "metadata": {},
   "source": [
    "This approach is also known as Youden's J. An alternative implementation without using `numpy` could be:\n"
   ]
  },
  {
   "cell_type": "code",
   "execution_count": 34,
   "metadata": {},
   "outputs": [
    {
     "name": "stdout",
     "output_type": "stream",
     "text": [
      "-0.7595495130451105\n"
     ]
    }
   ],
   "source": [
    "def get_optimal_threshold(fpr,tpr,thresholds):\n",
    "    j_scores = tpr-fpr\n",
    "    j_ordered = sorted(zip(j_scores,thresholds))\n",
    "    return j_ordered[-1][1]    # return threshold score of the last (i.e., highest j_score)_ot\n",
    "\n",
    "optimal_threshold2 = get_optimal_threshold(fpr,tpr,thresholds)\n",
    "print(optimal_threshold)"
   ]
  },
  {
   "cell_type": "code",
   "execution_count": 35,
   "metadata": {},
   "outputs": [
    {
     "data": {
      "text/plain": [
       "0.4678771520954043"
      ]
     },
     "execution_count": 35,
     "metadata": {},
     "output_type": "execute_result"
    }
   ],
   "source": [
    "np.exp(optimal_threshold)"
   ]
  },
  {
   "cell_type": "markdown",
   "metadata": {},
   "source": [
    "Looks like we can go even a bit lower with our threshold than we expected. Let's try:\n"
   ]
  },
  {
   "cell_type": "code",
   "execution_count": 36,
   "metadata": {},
   "outputs": [],
   "source": [
    "predictions_new = np.where(predprobs[:,1] > optimal_threshold, '1', '-1')"
   ]
  },
  {
   "cell_type": "code",
   "execution_count": 40,
   "metadata": {},
   "outputs": [
    {
     "name": "stdout",
     "output_type": "stream",
     "text": [
      "WITH THRESHOLD OF 0.4678771520954043\n",
      "------------------------------------------------------------\n",
      "[[10763  1737]\n",
      " [ 1767 10733]]\n",
      "PRECISION: 0.8607056936647955\n",
      "RECALL: 0.85864\n"
     ]
    }
   ],
   "source": [
    "print('WITH THRESHOLD OF {}'.format(np.exp(optimal_threshold)))\n",
    "print('-'*60)\n",
    "print(metrics.confusion_matrix(actual,predictions_new))\n",
    "print(\"PRECISION:\", metrics.precision_score(actual, predictions_new, pos_label='1'))\n",
    "print(\"RECALL:\", metrics.recall_score(actual,predictions_new, pos_label='1'))"
   ]
  },
  {
   "cell_type": "code",
   "execution_count": 41,
   "metadata": {},
   "outputs": [
    {
     "name": "stdout",
     "output_type": "stream",
     "text": [
      "WITH THRESHOLD OF .50\n",
      "------------------------------------------------------------\n",
      "[[10850  1650]\n",
      " [ 1882 10618]]\n",
      "PRECISION: 0.8655037495924356\n",
      "RECALL: 0.84944\n"
     ]
    }
   ],
   "source": [
    "print('WITH THRESHOLD OF .50')\n",
    "print('-'*60)\n",
    "print(metrics.confusion_matrix(actual,predictions))\n",
    "print(\"PRECISION:\", metrics.precision_score(actual, predictions, pos_label='1'))\n",
    "print(\"RECALL:\", metrics.recall_score(actual,predictions, pos_label='1'))"
   ]
  },
  {
   "cell_type": "markdown",
   "metadata": {},
   "source": [
    "Yeah! Looks like we have slightly more balanced predictions now! We got a minimally worse precision but and a minimally better recall.\n",
    "\n",
    "Using our new cutoff point makes our classifier _equally good in predicting good and bad movies_, which was not the case before.\n"
   ]
  }
 ],
 "metadata": {
  "kernelspec": {
   "display_name": "Python 3",
   "language": "python",
   "name": "python3"
  },
  "language_info": {
   "codemirror_mode": {
    "name": "ipython",
    "version": 3
   },
   "file_extension": ".py",
   "mimetype": "text/x-python",
   "name": "python",
   "nbconvert_exporter": "python",
   "pygments_lexer": "ipython3",
   "version": "3.12.1"
  }
 },
 "nbformat": 4,
 "nbformat_minor": 2
}
