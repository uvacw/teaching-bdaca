{
 "cells": [
  {
   "cell_type": "code",
   "execution_count": 4,
   "id": "63c661b7",
   "metadata": {},
   "outputs": [
    {
     "name": "stdout",
     "output_type": "stream",
     "text": [
      "\u001b[33mWARNING: The directory '/Users/anne/Library/Caches/pip' or its parent directory is not owned or is not writable by the current user. The cache has been disabled. Check the permissions and owner of that directory. If executing pip with sudo, you should use sudo's -H flag.\u001b[0m\n",
      "Collecting pattern\n",
      "  Downloading Pattern-3.6.0.tar.gz (22.2 MB)\n",
      "\u001b[K     |████████████████████████████████| 22.2 MB 23.5 MB/s eta 0:00:01\n",
      "\u001b[?25hRequirement already satisfied: future in /Library/Developer/CommandLineTools/Library/Frameworks/Python3.framework/Versions/3.9/lib/python3.9/site-packages (from pattern) (0.18.2)\n",
      "Collecting backports.csv\n",
      "  Downloading backports.csv-1.0.7-py2.py3-none-any.whl (12 kB)\n",
      "Collecting mysqlclient\n",
      "  Downloading mysqlclient-2.1.1.tar.gz (88 kB)\n",
      "\u001b[K     |████████████████████████████████| 88 kB 19.0 MB/s eta 0:00:01\n",
      "\u001b[?25hRequirement already satisfied: beautifulsoup4 in /Users/anne/Library/Python/3.9/lib/python/site-packages (from pattern) (4.12.0)\n",
      "Collecting lxml\n",
      "  Downloading lxml-4.9.2-cp39-cp39-macosx_10_15_x86_64.whl (4.8 MB)\n",
      "\u001b[K     |████████████████████████████████| 4.8 MB 21.9 MB/s eta 0:00:01\n",
      "\u001b[?25hCollecting feedparser\n",
      "  Downloading feedparser-6.0.10-py3-none-any.whl (81 kB)\n",
      "\u001b[K     |████████████████████████████████| 81 kB 20.4 MB/s eta 0:00:01\n",
      "\u001b[?25hCollecting pdfminer.six\n",
      "  Downloading pdfminer.six-20221105-py3-none-any.whl (5.6 MB)\n",
      "\u001b[K     |████████████████████████████████| 5.6 MB 15.3 MB/s eta 0:00:01\n",
      "\u001b[?25hRequirement already satisfied: numpy in /Users/anne/Library/Python/3.9/lib/python/site-packages (from pattern) (1.23.5)\n",
      "Requirement already satisfied: scipy in /Users/anne/Library/Python/3.9/lib/python/site-packages (from pattern) (1.10.1)\n",
      "Requirement already satisfied: nltk in /Users/anne/Library/Python/3.9/lib/python/site-packages (from pattern) (3.8.1)\n",
      "Collecting python-docx\n",
      "  Downloading python-docx-0.8.11.tar.gz (5.6 MB)\n",
      "\u001b[K     |████████████████████████████████| 5.6 MB 917 kB/s eta 0:00:01\n",
      "\u001b[?25hCollecting cherrypy\n",
      "  Downloading CherryPy-18.8.0-py2.py3-none-any.whl (348 kB)\n",
      "\u001b[K     |████████████████████████████████| 348 kB 19.8 MB/s eta 0:00:01\n",
      "\u001b[?25hRequirement already satisfied: requests in /Library/Python/3.9/site-packages (from pattern) (2.28.2)\n",
      "Requirement already satisfied: soupsieve>1.2 in /Users/anne/Library/Python/3.9/lib/python/site-packages (from beautifulsoup4->pattern) (2.4)\n",
      "Collecting more-itertools\n",
      "  Downloading more_itertools-9.1.0-py3-none-any.whl (54 kB)\n",
      "\u001b[K     |████████████████████████████████| 54 kB 16.0 MB/s eta 0:00:01\n",
      "\u001b[?25hCollecting zc.lockfile\n",
      "  Downloading zc.lockfile-3.0.post1-py3-none-any.whl (9.8 kB)\n",
      "Collecting jaraco.collections\n",
      "  Downloading jaraco.collections-4.1.0-py3-none-any.whl (11 kB)\n",
      "Collecting portend>=2.1.1\n",
      "  Downloading portend-3.1.0-py3-none-any.whl (5.3 kB)\n",
      "Collecting cheroot>=8.2.1\n",
      "  Downloading cheroot-9.0.0-py2.py3-none-any.whl (100 kB)\n",
      "\u001b[K     |████████████████████████████████| 100 kB 19.2 MB/s ta 0:00:01\n",
      "\u001b[?25hCollecting jaraco.functools\n",
      "  Downloading jaraco.functools-3.6.0-py3-none-any.whl (7.9 kB)\n",
      "Requirement already satisfied: six>=1.11.0 in /Library/Developer/CommandLineTools/Library/Frameworks/Python3.framework/Versions/3.9/lib/python3.9/site-packages (from cheroot>=8.2.1->cherrypy->pattern) (1.15.0)\n",
      "Collecting tempora>=1.8\n",
      "  Downloading tempora-5.2.2-py3-none-any.whl (13 kB)\n",
      "Requirement already satisfied: pytz in /Users/anne/Library/Python/3.9/lib/python/site-packages (from tempora>=1.8->portend>=2.1.1->cherrypy->pattern) (2022.7.1)\n",
      "Collecting sgmllib3k\n",
      "  Downloading sgmllib3k-1.0.0.tar.gz (5.8 kB)\n",
      "Collecting jaraco.text\n",
      "  Downloading jaraco.text-3.11.1-py3-none-any.whl (11 kB)\n",
      "Collecting autocommand\n",
      "  Downloading autocommand-2.2.2-py3-none-any.whl (19 kB)\n",
      "Collecting jaraco.context>=4.1\n",
      "  Downloading jaraco.context-4.3.0-py3-none-any.whl (5.3 kB)\n",
      "Collecting inflect\n",
      "  Downloading inflect-6.0.4-py3-none-any.whl (34 kB)\n",
      "Requirement already satisfied: pydantic>=1.9.1 in /Library/Python/3.9/site-packages (from inflect->jaraco.text->jaraco.collections->cherrypy->pattern) (1.10.7)\n",
      "Requirement already satisfied: typing-extensions>=4.2.0 in /Library/Python/3.9/site-packages (from pydantic>=1.9.1->inflect->jaraco.text->jaraco.collections->cherrypy->pattern) (4.5.0)\n",
      "Requirement already satisfied: joblib in /Users/anne/Library/Python/3.9/lib/python/site-packages (from nltk->pattern) (1.2.0)\n",
      "Requirement already satisfied: click in /Users/anne/Library/Python/3.9/lib/python/site-packages (from nltk->pattern) (8.1.3)\n",
      "Requirement already satisfied: regex>=2021.8.3 in /Users/anne/Library/Python/3.9/lib/python/site-packages (from nltk->pattern) (2023.3.22)\n",
      "Requirement already satisfied: tqdm in /Users/anne/Library/Python/3.9/lib/python/site-packages (from nltk->pattern) (4.65.0)\n",
      "Requirement already satisfied: charset-normalizer>=2.0.0 in /Library/Python/3.9/site-packages (from pdfminer.six->pattern) (3.1.0)\n",
      "Collecting cryptography>=36.0.0\n",
      "  Downloading cryptography-40.0.2-cp36-abi3-macosx_10_12_x86_64.whl (2.8 MB)\n",
      "\u001b[K     |████████████████████████████████| 2.8 MB 18.0 MB/s eta 0:00:01\n",
      "\u001b[?25hRequirement already satisfied: cffi>=1.12 in /Users/anne/Library/Python/3.9/lib/python/site-packages (from cryptography>=36.0.0->pdfminer.six->pattern) (1.15.1)\n",
      "Requirement already satisfied: pycparser in /Users/anne/Library/Python/3.9/lib/python/site-packages (from cffi>=1.12->cryptography>=36.0.0->pdfminer.six->pattern) (2.21)\n",
      "Requirement already satisfied: urllib3<1.27,>=1.21.1 in /Library/Python/3.9/site-packages (from requests->pattern) (1.26.15)\n",
      "Requirement already satisfied: certifi>=2017.4.17 in /Library/Python/3.9/site-packages (from requests->pattern) (2022.12.7)\n",
      "Requirement already satisfied: idna<4,>=2.5 in /Library/Python/3.9/site-packages (from requests->pattern) (3.4)\n",
      "Requirement already satisfied: setuptools in /Library/Developer/CommandLineTools/Library/Frameworks/Python3.framework/Versions/3.9/lib/python3.9/site-packages (from zc.lockfile->cherrypy->pattern) (58.0.4)\n",
      "Building wheels for collected packages: pattern, mysqlclient, python-docx, sgmllib3k\n",
      "  Building wheel for pattern (setup.py) ... \u001b[?25ldone\n",
      "\u001b[?25h  Created wheel for pattern: filename=Pattern-3.6-py3-none-any.whl size=22332721 sha256=8686f6291b2abf36290b014b4ac3932b27946ffda93daf7240d03077f0456971\n",
      "  Stored in directory: /private/tmp/pip-ephem-wheel-cache-qs78aw6o/wheels/50/33/f3/ea00b80d50c09f210588bda15ec60bdb38b289b452577cd5c3\n",
      "  Building wheel for mysqlclient (setup.py) ... \u001b[?25ldone\n",
      "\u001b[?25h  Created wheel for mysqlclient: filename=mysqlclient-2.1.1-cp39-cp39-macosx_10_9_universal2.whl size=77930 sha256=768b26d2d129f8a121d8056df740019e93f00f5bdab7a2808aa90c38c6861653\n",
      "  Stored in directory: /private/tmp/pip-ephem-wheel-cache-qs78aw6o/wheels/f3/a5/27/c6312d8008951cfd5511684378a9e057b82006c70e1fea6107\n",
      "  Building wheel for python-docx (setup.py) ... \u001b[?25ldone\n",
      "\u001b[?25h  Created wheel for python-docx: filename=python_docx-0.8.11-py3-none-any.whl size=184508 sha256=e53091071d5825dd1dc70ce52939f69c543a5fdad63f0556771b512172f7a3df\n",
      "  Stored in directory: /private/tmp/pip-ephem-wheel-cache-qs78aw6o/wheels/83/8b/7c/09ae60c42c7ba4ed2dddaf2b8b9186cb105255856d6ed3dba5\n",
      "  Building wheel for sgmllib3k (setup.py) ... \u001b[?25ldone\n",
      "\u001b[?25h  Created wheel for sgmllib3k: filename=sgmllib3k-1.0.0-py3-none-any.whl size=6065 sha256=90a83732163542c666c9b9656da652eea3b5f0c4557fb638b0a9187edafa6170\n",
      "  Stored in directory: /private/tmp/pip-ephem-wheel-cache-qs78aw6o/wheels/65/7a/a7/78c287f64e401255dff4c13fdbc672fed5efbfd21c530114e1\n",
      "Successfully built pattern mysqlclient python-docx sgmllib3k\n",
      "Installing collected packages: more-itertools, jaraco.functools, jaraco.context, inflect, autocommand, tempora, jaraco.text, zc.lockfile, sgmllib3k, portend, lxml, jaraco.collections, cryptography, cheroot, python-docx, pdfminer.six, mysqlclient, feedparser, cherrypy, backports.csv, pattern\n",
      "Successfully installed autocommand-2.2.2 backports.csv-1.0.7 cheroot-9.0.0 cherrypy-18.8.0 cryptography-40.0.2 feedparser-6.0.10 inflect-6.0.4 jaraco.collections-4.1.0 jaraco.context-4.3.0 jaraco.functools-3.6.0 jaraco.text-3.11.1 lxml-4.9.2 more-itertools-9.1.0 mysqlclient-2.1.1 pattern-3.6 pdfminer.six-20221105 portend-3.1.0 python-docx-0.8.11 sgmllib3k-1.0.0 tempora-5.2.2 zc.lockfile-3.0.post1\n",
      "\u001b[33mWARNING: Running pip as the 'root' user can result in broken permissions and conflicting behaviour with the system package manager. It is recommended to use a virtual environment instead: https://pip.pypa.io/warnings/venv\u001b[0m\n"
     ]
    },
    {
     "name": "stdout",
     "output_type": "stream",
     "text": [
      "\u001b[33mWARNING: You are using pip version 21.2.4; however, version 23.1.2 is available.\r\n",
      "You should consider upgrading via the '/Library/Developer/CommandLineTools/usr/bin/python3 -m pip install --upgrade pip' command.\u001b[0m\r\n"
     ]
    }
   ],
   "source": [
    "!pip install pattern"
   ]
  },
  {
   "cell_type": "markdown",
   "id": "943999c7",
   "metadata": {},
   "source": [
    "## Example Pattern\n",
    "\n",
    "`Polarity score`: Represents the sentiment polarity ranging from -1 (negative) to +1 (positive), with 0 being neutral.\n",
    "`Subjectivity score`: Represents the subjectivity of the text, ranging from 0 (objective) to 1 (subjective)."
   ]
  },
  {
   "cell_type": "code",
   "execution_count": 5,
   "id": "0d2fdbe3",
   "metadata": {},
   "outputs": [
    {
     "name": "stdout",
     "output_type": "stream",
     "text": [
      "(-1.0, 1.0)\n"
     ]
    }
   ],
   "source": [
    "from pattern.en import sentiment\n",
    "\n",
    "# Example text\n",
    "text = \"The movie was terrible.\"\n",
    "\n",
    "# Analyze sentiment\n",
    "sentiment_score = sentiment(text)\n",
    "\n",
    "# Print sentiment score\n",
    "print(sentiment_score)"
   ]
  },
  {
   "cell_type": "markdown",
   "id": "49c11fcc",
   "metadata": {},
   "source": [
    "### Example Vader\n",
    "\n",
    "`pos`: Represents the intensity of positive sentiment in the text.  \n",
    "`neg`: Represents the intensity of negative sentiment in the text.  \n",
    "`neu`: Represents the intensity of neutral sentiment in the text.  \n",
    "`compound` Represents the overall sentiment of the text, ranging from -1 (extremely negative) to +1 (extremely positive).  "
   ]
  },
  {
   "cell_type": "code",
   "execution_count": 7,
   "id": "97ac6ffe",
   "metadata": {},
   "outputs": [
    {
     "name": "stdout",
     "output_type": "stream",
     "text": [
      "{'neg': 0.63, 'neu': 0.37, 'pos': 0.0, 'compound': -0.7783}\n"
     ]
    }
   ],
   "source": [
    "from nltk.sentiment.vader import SentimentIntensityAnalyzer\n",
    "\n",
    "# Initialize the sentiment analyzer\n",
    "sia = SentimentIntensityAnalyzer()\n",
    "\n",
    "# Example text\n",
    "text = \"I love this product! It's amazing.\"\n",
    "text = \"I hate this product, it is terrible\"\n",
    "\n",
    "# Analyze sentiment\n",
    "sentiment = sia.polarity_scores(text)\n",
    "\n",
    "# Print sentiment scores\n",
    "print(sentiment)\n"
   ]
  }
 ],
 "metadata": {
  "kernelspec": {
   "display_name": "Python 3 (ipykernel)",
   "language": "python",
   "name": "python3"
  },
  "language_info": {
   "codemirror_mode": {
    "name": "ipython",
    "version": 3
   },
   "file_extension": ".py",
   "mimetype": "text/x-python",
   "name": "python",
   "nbconvert_exporter": "python",
   "pygments_lexer": "ipython3",
   "version": "3.9.6"
  }
 },
 "nbformat": 4,
 "nbformat_minor": 5
}
